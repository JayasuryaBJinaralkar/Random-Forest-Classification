{
 "cells": [
  {
   "cell_type": "code",
   "execution_count": 9,
   "id": "6657f249",
   "metadata": {
    "id": "6657f249"
   },
   "outputs": [],
   "source": [
    "import numpy as np\n",
    "import pandas as pd\n",
    "from matplotlib import pyplot as plt\n",
    "import seaborn as sns\n",
    "import random\n",
    "\n",
    "\n"
   ]
  },
  {
   "cell_type": "markdown",
   "id": "4660d011",
   "metadata": {
    "id": "4660d011"
   },
   "source": [
    "# Importing required data"
   ]
  },
  {
   "cell_type": "code",
   "execution_count": 10,
   "id": "29627bc4",
   "metadata": {
    "colab": {
     "base_uri": "https://localhost:8080/"
    },
    "id": "29627bc4",
    "outputId": "d913ae1d-7529-47ea-c848-498ea57eb2f9"
   },
   "outputs": [
    {
     "data": {
      "text/plain": [
       "(5410, 2)"
      ]
     },
     "execution_count": 10,
     "metadata": {},
     "output_type": "execute_result"
    }
   ],
   "source": [
    "train_data = pd.read_csv('Train.csv')                       #importing train dataset \n",
    "train_data.shape"
   ]
  },
  {
   "cell_type": "code",
   "execution_count": 11,
   "id": "63d90c04",
   "metadata": {
    "id": "63d90c04"
   },
   "outputs": [],
   "source": [
    "train_Benif = pd.read_csv(\"Train_Beneficiarydata.csv\" ) \n",
    "train_Inpat = pd.read_csv(\"Train_Inpatientdata.csv\" ) \n",
    "train_Outpat = pd.read_csv(\"Train_Outpatientdata.csv\" ) "
   ]
  },
  {
   "cell_type": "code",
   "execution_count": 12,
   "id": "397bed48",
   "metadata": {
    "colab": {
     "base_uri": "https://localhost:8080/"
    },
    "id": "397bed48",
    "outputId": "7c6c2521-c8af-4678-e8ea-01d7dc71bf40"
   },
   "outputs": [
    {
     "data": {
      "text/plain": [
       "(138556, 25)"
      ]
     },
     "execution_count": 12,
     "metadata": {},
     "output_type": "execute_result"
    }
   ],
   "source": [
    "train_Benif.shape"
   ]
  },
  {
   "cell_type": "code",
   "execution_count": 13,
   "id": "9b802b77",
   "metadata": {
    "colab": {
     "base_uri": "https://localhost:8080/"
    },
    "id": "9b802b77",
    "outputId": "04c57f7a-56a8-4d8c-ff83-10d3bf8c9060"
   },
   "outputs": [
    {
     "data": {
      "text/plain": [
       "(40474, 30)"
      ]
     },
     "execution_count": 13,
     "metadata": {},
     "output_type": "execute_result"
    }
   ],
   "source": [
    "train_Inpat.shape"
   ]
  },
  {
   "cell_type": "code",
   "execution_count": 14,
   "id": "264e4ae3",
   "metadata": {
    "colab": {
     "base_uri": "https://localhost:8080/"
    },
    "id": "264e4ae3",
    "outputId": "d834bb56-3308-4b7a-ad6e-4fe1eca9bed7"
   },
   "outputs": [
    {
     "data": {
      "text/plain": [
       "(517737, 27)"
      ]
     },
     "execution_count": 14,
     "metadata": {},
     "output_type": "execute_result"
    }
   ],
   "source": [
    "train_Outpat.shape"
   ]
  },
  {
   "cell_type": "code",
   "execution_count": 15,
   "id": "73ca96b5",
   "metadata": {
    "colab": {
     "base_uri": "https://localhost:8080/",
     "height": 206
    },
    "id": "73ca96b5",
    "outputId": "20029b84-61be-4448-c558-f38849439f94"
   },
   "outputs": [
    {
     "data": {
      "text/html": [
       "<div>\n",
       "<style scoped>\n",
       "    .dataframe tbody tr th:only-of-type {\n",
       "        vertical-align: middle;\n",
       "    }\n",
       "\n",
       "    .dataframe tbody tr th {\n",
       "        vertical-align: top;\n",
       "    }\n",
       "\n",
       "    .dataframe thead th {\n",
       "        text-align: right;\n",
       "    }\n",
       "</style>\n",
       "<table border=\"1\" class=\"dataframe\">\n",
       "  <thead>\n",
       "    <tr style=\"text-align: right;\">\n",
       "      <th></th>\n",
       "      <th>Provider</th>\n",
       "      <th>PotentialFraud</th>\n",
       "    </tr>\n",
       "  </thead>\n",
       "  <tbody>\n",
       "    <tr>\n",
       "      <th>0</th>\n",
       "      <td>PRV51001</td>\n",
       "      <td>No</td>\n",
       "    </tr>\n",
       "    <tr>\n",
       "      <th>1</th>\n",
       "      <td>PRV51003</td>\n",
       "      <td>Yes</td>\n",
       "    </tr>\n",
       "    <tr>\n",
       "      <th>2</th>\n",
       "      <td>PRV51004</td>\n",
       "      <td>No</td>\n",
       "    </tr>\n",
       "    <tr>\n",
       "      <th>3</th>\n",
       "      <td>PRV51005</td>\n",
       "      <td>Yes</td>\n",
       "    </tr>\n",
       "    <tr>\n",
       "      <th>4</th>\n",
       "      <td>PRV51007</td>\n",
       "      <td>No</td>\n",
       "    </tr>\n",
       "  </tbody>\n",
       "</table>\n",
       "</div>"
      ],
      "text/plain": [
       "   Provider PotentialFraud\n",
       "0  PRV51001             No\n",
       "1  PRV51003            Yes\n",
       "2  PRV51004             No\n",
       "3  PRV51005            Yes\n",
       "4  PRV51007             No"
      ]
     },
     "execution_count": 15,
     "metadata": {},
     "output_type": "execute_result"
    }
   ],
   "source": [
    "train_data.head()"
   ]
  },
  {
   "cell_type": "code",
   "execution_count": 16,
   "id": "158f7de3",
   "metadata": {
    "colab": {
     "base_uri": "https://localhost:8080/",
     "height": 386
    },
    "id": "158f7de3",
    "outputId": "f430d5ac-18e8-4b92-ce5d-06d34a4e5ca7"
   },
   "outputs": [
    {
     "data": {
      "text/html": [
       "<div>\n",
       "<style scoped>\n",
       "    .dataframe tbody tr th:only-of-type {\n",
       "        vertical-align: middle;\n",
       "    }\n",
       "\n",
       "    .dataframe tbody tr th {\n",
       "        vertical-align: top;\n",
       "    }\n",
       "\n",
       "    .dataframe thead th {\n",
       "        text-align: right;\n",
       "    }\n",
       "</style>\n",
       "<table border=\"1\" class=\"dataframe\">\n",
       "  <thead>\n",
       "    <tr style=\"text-align: right;\">\n",
       "      <th></th>\n",
       "      <th>BeneID</th>\n",
       "      <th>DOB</th>\n",
       "      <th>DOD</th>\n",
       "      <th>Gender</th>\n",
       "      <th>Race</th>\n",
       "      <th>RenalDiseaseIndicator</th>\n",
       "      <th>State</th>\n",
       "      <th>County</th>\n",
       "      <th>NoOfMonths_PartACov</th>\n",
       "      <th>NoOfMonths_PartBCov</th>\n",
       "      <th>...</th>\n",
       "      <th>ChronicCond_Depression</th>\n",
       "      <th>ChronicCond_Diabetes</th>\n",
       "      <th>ChronicCond_IschemicHeart</th>\n",
       "      <th>ChronicCond_Osteoporasis</th>\n",
       "      <th>ChronicCond_rheumatoidarthritis</th>\n",
       "      <th>ChronicCond_stroke</th>\n",
       "      <th>IPAnnualReimbursementAmt</th>\n",
       "      <th>IPAnnualDeductibleAmt</th>\n",
       "      <th>OPAnnualReimbursementAmt</th>\n",
       "      <th>OPAnnualDeductibleAmt</th>\n",
       "    </tr>\n",
       "  </thead>\n",
       "  <tbody>\n",
       "    <tr>\n",
       "      <th>0</th>\n",
       "      <td>BENE11001</td>\n",
       "      <td>01-01-1943</td>\n",
       "      <td>NaN</td>\n",
       "      <td>1</td>\n",
       "      <td>1</td>\n",
       "      <td>0</td>\n",
       "      <td>39</td>\n",
       "      <td>230</td>\n",
       "      <td>12</td>\n",
       "      <td>12</td>\n",
       "      <td>...</td>\n",
       "      <td>1</td>\n",
       "      <td>1</td>\n",
       "      <td>1</td>\n",
       "      <td>2</td>\n",
       "      <td>1</td>\n",
       "      <td>1</td>\n",
       "      <td>36000</td>\n",
       "      <td>3204</td>\n",
       "      <td>60</td>\n",
       "      <td>70</td>\n",
       "    </tr>\n",
       "    <tr>\n",
       "      <th>1</th>\n",
       "      <td>BENE11002</td>\n",
       "      <td>01-09-1936</td>\n",
       "      <td>NaN</td>\n",
       "      <td>2</td>\n",
       "      <td>1</td>\n",
       "      <td>0</td>\n",
       "      <td>39</td>\n",
       "      <td>280</td>\n",
       "      <td>12</td>\n",
       "      <td>12</td>\n",
       "      <td>...</td>\n",
       "      <td>2</td>\n",
       "      <td>2</td>\n",
       "      <td>2</td>\n",
       "      <td>2</td>\n",
       "      <td>2</td>\n",
       "      <td>2</td>\n",
       "      <td>0</td>\n",
       "      <td>0</td>\n",
       "      <td>30</td>\n",
       "      <td>50</td>\n",
       "    </tr>\n",
       "    <tr>\n",
       "      <th>2</th>\n",
       "      <td>BENE11003</td>\n",
       "      <td>01-08-1936</td>\n",
       "      <td>NaN</td>\n",
       "      <td>1</td>\n",
       "      <td>1</td>\n",
       "      <td>0</td>\n",
       "      <td>52</td>\n",
       "      <td>590</td>\n",
       "      <td>12</td>\n",
       "      <td>12</td>\n",
       "      <td>...</td>\n",
       "      <td>2</td>\n",
       "      <td>2</td>\n",
       "      <td>1</td>\n",
       "      <td>2</td>\n",
       "      <td>2</td>\n",
       "      <td>2</td>\n",
       "      <td>0</td>\n",
       "      <td>0</td>\n",
       "      <td>90</td>\n",
       "      <td>40</td>\n",
       "    </tr>\n",
       "    <tr>\n",
       "      <th>3</th>\n",
       "      <td>BENE11004</td>\n",
       "      <td>01-07-1922</td>\n",
       "      <td>NaN</td>\n",
       "      <td>1</td>\n",
       "      <td>1</td>\n",
       "      <td>0</td>\n",
       "      <td>39</td>\n",
       "      <td>270</td>\n",
       "      <td>12</td>\n",
       "      <td>12</td>\n",
       "      <td>...</td>\n",
       "      <td>2</td>\n",
       "      <td>1</td>\n",
       "      <td>1</td>\n",
       "      <td>1</td>\n",
       "      <td>1</td>\n",
       "      <td>2</td>\n",
       "      <td>0</td>\n",
       "      <td>0</td>\n",
       "      <td>1810</td>\n",
       "      <td>760</td>\n",
       "    </tr>\n",
       "    <tr>\n",
       "      <th>4</th>\n",
       "      <td>BENE11005</td>\n",
       "      <td>01-09-1935</td>\n",
       "      <td>NaN</td>\n",
       "      <td>1</td>\n",
       "      <td>1</td>\n",
       "      <td>0</td>\n",
       "      <td>24</td>\n",
       "      <td>680</td>\n",
       "      <td>12</td>\n",
       "      <td>12</td>\n",
       "      <td>...</td>\n",
       "      <td>2</td>\n",
       "      <td>1</td>\n",
       "      <td>2</td>\n",
       "      <td>2</td>\n",
       "      <td>2</td>\n",
       "      <td>2</td>\n",
       "      <td>0</td>\n",
       "      <td>0</td>\n",
       "      <td>1790</td>\n",
       "      <td>1200</td>\n",
       "    </tr>\n",
       "  </tbody>\n",
       "</table>\n",
       "<p>5 rows × 25 columns</p>\n",
       "</div>"
      ],
      "text/plain": [
       "      BeneID         DOB  DOD  Gender  Race RenalDiseaseIndicator  State  \\\n",
       "0  BENE11001  01-01-1943  NaN       1     1                     0     39   \n",
       "1  BENE11002  01-09-1936  NaN       2     1                     0     39   \n",
       "2  BENE11003  01-08-1936  NaN       1     1                     0     52   \n",
       "3  BENE11004  01-07-1922  NaN       1     1                     0     39   \n",
       "4  BENE11005  01-09-1935  NaN       1     1                     0     24   \n",
       "\n",
       "   County  NoOfMonths_PartACov  NoOfMonths_PartBCov  ...  \\\n",
       "0     230                   12                   12  ...   \n",
       "1     280                   12                   12  ...   \n",
       "2     590                   12                   12  ...   \n",
       "3     270                   12                   12  ...   \n",
       "4     680                   12                   12  ...   \n",
       "\n",
       "   ChronicCond_Depression  ChronicCond_Diabetes  ChronicCond_IschemicHeart  \\\n",
       "0                       1                     1                          1   \n",
       "1                       2                     2                          2   \n",
       "2                       2                     2                          1   \n",
       "3                       2                     1                          1   \n",
       "4                       2                     1                          2   \n",
       "\n",
       "   ChronicCond_Osteoporasis  ChronicCond_rheumatoidarthritis  \\\n",
       "0                         2                                1   \n",
       "1                         2                                2   \n",
       "2                         2                                2   \n",
       "3                         1                                1   \n",
       "4                         2                                2   \n",
       "\n",
       "   ChronicCond_stroke  IPAnnualReimbursementAmt  IPAnnualDeductibleAmt  \\\n",
       "0                   1                     36000                   3204   \n",
       "1                   2                         0                      0   \n",
       "2                   2                         0                      0   \n",
       "3                   2                         0                      0   \n",
       "4                   2                         0                      0   \n",
       "\n",
       "   OPAnnualReimbursementAmt  OPAnnualDeductibleAmt  \n",
       "0                        60                     70  \n",
       "1                        30                     50  \n",
       "2                        90                     40  \n",
       "3                      1810                    760  \n",
       "4                      1790                   1200  \n",
       "\n",
       "[5 rows x 25 columns]"
      ]
     },
     "execution_count": 16,
     "metadata": {},
     "output_type": "execute_result"
    }
   ],
   "source": [
    "train_Benif.head()"
   ]
  },
  {
   "cell_type": "code",
   "execution_count": 17,
   "id": "b9eb2eaa",
   "metadata": {
    "colab": {
     "base_uri": "https://localhost:8080/",
     "height": 299
    },
    "id": "b9eb2eaa",
    "outputId": "9a2ce113-fdde-40ed-f37a-8dc892edcb15",
    "scrolled": true
   },
   "outputs": [
    {
     "data": {
      "text/html": [
       "<div>\n",
       "<style scoped>\n",
       "    .dataframe tbody tr th:only-of-type {\n",
       "        vertical-align: middle;\n",
       "    }\n",
       "\n",
       "    .dataframe tbody tr th {\n",
       "        vertical-align: top;\n",
       "    }\n",
       "\n",
       "    .dataframe thead th {\n",
       "        text-align: right;\n",
       "    }\n",
       "</style>\n",
       "<table border=\"1\" class=\"dataframe\">\n",
       "  <thead>\n",
       "    <tr style=\"text-align: right;\">\n",
       "      <th></th>\n",
       "      <th>BeneID</th>\n",
       "      <th>ClaimID</th>\n",
       "      <th>ClaimStartDt</th>\n",
       "      <th>ClaimEndDt</th>\n",
       "      <th>Provider</th>\n",
       "      <th>InscClaimAmtReimbursed</th>\n",
       "      <th>AttendingPhysician</th>\n",
       "      <th>OperatingPhysician</th>\n",
       "      <th>OtherPhysician</th>\n",
       "      <th>AdmissionDt</th>\n",
       "      <th>...</th>\n",
       "      <th>ClmDiagnosisCode_7</th>\n",
       "      <th>ClmDiagnosisCode_8</th>\n",
       "      <th>ClmDiagnosisCode_9</th>\n",
       "      <th>ClmDiagnosisCode_10</th>\n",
       "      <th>ClmProcedureCode_1</th>\n",
       "      <th>ClmProcedureCode_2</th>\n",
       "      <th>ClmProcedureCode_3</th>\n",
       "      <th>ClmProcedureCode_4</th>\n",
       "      <th>ClmProcedureCode_5</th>\n",
       "      <th>ClmProcedureCode_6</th>\n",
       "    </tr>\n",
       "  </thead>\n",
       "  <tbody>\n",
       "    <tr>\n",
       "      <th>0</th>\n",
       "      <td>BENE11001</td>\n",
       "      <td>CLM46614</td>\n",
       "      <td>2009-04-12</td>\n",
       "      <td>2009-04-18</td>\n",
       "      <td>PRV55912</td>\n",
       "      <td>26000</td>\n",
       "      <td>PHY390922</td>\n",
       "      <td>NaN</td>\n",
       "      <td>NaN</td>\n",
       "      <td>2009-04-12</td>\n",
       "      <td>...</td>\n",
       "      <td>2724</td>\n",
       "      <td>19889</td>\n",
       "      <td>5849</td>\n",
       "      <td>NaN</td>\n",
       "      <td>NaN</td>\n",
       "      <td>NaN</td>\n",
       "      <td>NaN</td>\n",
       "      <td>NaN</td>\n",
       "      <td>NaN</td>\n",
       "      <td>NaN</td>\n",
       "    </tr>\n",
       "    <tr>\n",
       "      <th>1</th>\n",
       "      <td>BENE11001</td>\n",
       "      <td>CLM66048</td>\n",
       "      <td>2009-08-31</td>\n",
       "      <td>2009-09-02</td>\n",
       "      <td>PRV55907</td>\n",
       "      <td>5000</td>\n",
       "      <td>PHY318495</td>\n",
       "      <td>PHY318495</td>\n",
       "      <td>NaN</td>\n",
       "      <td>2009-08-31</td>\n",
       "      <td>...</td>\n",
       "      <td>NaN</td>\n",
       "      <td>NaN</td>\n",
       "      <td>NaN</td>\n",
       "      <td>NaN</td>\n",
       "      <td>7092.0</td>\n",
       "      <td>NaN</td>\n",
       "      <td>NaN</td>\n",
       "      <td>NaN</td>\n",
       "      <td>NaN</td>\n",
       "      <td>NaN</td>\n",
       "    </tr>\n",
       "    <tr>\n",
       "      <th>2</th>\n",
       "      <td>BENE11001</td>\n",
       "      <td>CLM68358</td>\n",
       "      <td>2009-09-17</td>\n",
       "      <td>2009-09-20</td>\n",
       "      <td>PRV56046</td>\n",
       "      <td>5000</td>\n",
       "      <td>PHY372395</td>\n",
       "      <td>NaN</td>\n",
       "      <td>PHY324689</td>\n",
       "      <td>2009-09-17</td>\n",
       "      <td>...</td>\n",
       "      <td>NaN</td>\n",
       "      <td>NaN</td>\n",
       "      <td>NaN</td>\n",
       "      <td>NaN</td>\n",
       "      <td>NaN</td>\n",
       "      <td>NaN</td>\n",
       "      <td>NaN</td>\n",
       "      <td>NaN</td>\n",
       "      <td>NaN</td>\n",
       "      <td>NaN</td>\n",
       "    </tr>\n",
       "    <tr>\n",
       "      <th>3</th>\n",
       "      <td>BENE11011</td>\n",
       "      <td>CLM38412</td>\n",
       "      <td>2009-02-14</td>\n",
       "      <td>2009-02-22</td>\n",
       "      <td>PRV52405</td>\n",
       "      <td>5000</td>\n",
       "      <td>PHY369659</td>\n",
       "      <td>PHY392961</td>\n",
       "      <td>PHY349768</td>\n",
       "      <td>2009-02-14</td>\n",
       "      <td>...</td>\n",
       "      <td>25062</td>\n",
       "      <td>40390</td>\n",
       "      <td>4019</td>\n",
       "      <td>NaN</td>\n",
       "      <td>331.0</td>\n",
       "      <td>NaN</td>\n",
       "      <td>NaN</td>\n",
       "      <td>NaN</td>\n",
       "      <td>NaN</td>\n",
       "      <td>NaN</td>\n",
       "    </tr>\n",
       "    <tr>\n",
       "      <th>4</th>\n",
       "      <td>BENE11014</td>\n",
       "      <td>CLM63689</td>\n",
       "      <td>2009-08-13</td>\n",
       "      <td>2009-08-30</td>\n",
       "      <td>PRV56614</td>\n",
       "      <td>10000</td>\n",
       "      <td>PHY379376</td>\n",
       "      <td>PHY398258</td>\n",
       "      <td>NaN</td>\n",
       "      <td>2009-08-13</td>\n",
       "      <td>...</td>\n",
       "      <td>5119</td>\n",
       "      <td>29620</td>\n",
       "      <td>20300</td>\n",
       "      <td>NaN</td>\n",
       "      <td>3893.0</td>\n",
       "      <td>NaN</td>\n",
       "      <td>NaN</td>\n",
       "      <td>NaN</td>\n",
       "      <td>NaN</td>\n",
       "      <td>NaN</td>\n",
       "    </tr>\n",
       "  </tbody>\n",
       "</table>\n",
       "<p>5 rows × 30 columns</p>\n",
       "</div>"
      ],
      "text/plain": [
       "      BeneID   ClaimID ClaimStartDt  ClaimEndDt  Provider  \\\n",
       "0  BENE11001  CLM46614   2009-04-12  2009-04-18  PRV55912   \n",
       "1  BENE11001  CLM66048   2009-08-31  2009-09-02  PRV55907   \n",
       "2  BENE11001  CLM68358   2009-09-17  2009-09-20  PRV56046   \n",
       "3  BENE11011  CLM38412   2009-02-14  2009-02-22  PRV52405   \n",
       "4  BENE11014  CLM63689   2009-08-13  2009-08-30  PRV56614   \n",
       "\n",
       "   InscClaimAmtReimbursed AttendingPhysician OperatingPhysician  \\\n",
       "0                   26000          PHY390922                NaN   \n",
       "1                    5000          PHY318495          PHY318495   \n",
       "2                    5000          PHY372395                NaN   \n",
       "3                    5000          PHY369659          PHY392961   \n",
       "4                   10000          PHY379376          PHY398258   \n",
       "\n",
       "  OtherPhysician AdmissionDt  ... ClmDiagnosisCode_7  ClmDiagnosisCode_8  \\\n",
       "0            NaN  2009-04-12  ...               2724               19889   \n",
       "1            NaN  2009-08-31  ...                NaN                 NaN   \n",
       "2      PHY324689  2009-09-17  ...                NaN                 NaN   \n",
       "3      PHY349768  2009-02-14  ...              25062               40390   \n",
       "4            NaN  2009-08-13  ...               5119               29620   \n",
       "\n",
       "  ClmDiagnosisCode_9 ClmDiagnosisCode_10 ClmProcedureCode_1  \\\n",
       "0               5849                 NaN                NaN   \n",
       "1                NaN                 NaN             7092.0   \n",
       "2                NaN                 NaN                NaN   \n",
       "3               4019                 NaN              331.0   \n",
       "4              20300                 NaN             3893.0   \n",
       "\n",
       "  ClmProcedureCode_2 ClmProcedureCode_3 ClmProcedureCode_4 ClmProcedureCode_5  \\\n",
       "0                NaN                NaN                NaN                NaN   \n",
       "1                NaN                NaN                NaN                NaN   \n",
       "2                NaN                NaN                NaN                NaN   \n",
       "3                NaN                NaN                NaN                NaN   \n",
       "4                NaN                NaN                NaN                NaN   \n",
       "\n",
       "  ClmProcedureCode_6  \n",
       "0                NaN  \n",
       "1                NaN  \n",
       "2                NaN  \n",
       "3                NaN  \n",
       "4                NaN  \n",
       "\n",
       "[5 rows x 30 columns]"
      ]
     },
     "execution_count": 17,
     "metadata": {},
     "output_type": "execute_result"
    }
   ],
   "source": [
    "train_Inpat.head()"
   ]
  },
  {
   "cell_type": "code",
   "execution_count": 18,
   "id": "3cf3948f",
   "metadata": {
    "colab": {
     "base_uri": "https://localhost:8080/",
     "height": 299
    },
    "id": "3cf3948f",
    "outputId": "ceccec36-aaca-4302-9d79-ec59545e533b"
   },
   "outputs": [
    {
     "data": {
      "text/html": [
       "<div>\n",
       "<style scoped>\n",
       "    .dataframe tbody tr th:only-of-type {\n",
       "        vertical-align: middle;\n",
       "    }\n",
       "\n",
       "    .dataframe tbody tr th {\n",
       "        vertical-align: top;\n",
       "    }\n",
       "\n",
       "    .dataframe thead th {\n",
       "        text-align: right;\n",
       "    }\n",
       "</style>\n",
       "<table border=\"1\" class=\"dataframe\">\n",
       "  <thead>\n",
       "    <tr style=\"text-align: right;\">\n",
       "      <th></th>\n",
       "      <th>BeneID</th>\n",
       "      <th>ClaimID</th>\n",
       "      <th>ClaimStartDt</th>\n",
       "      <th>ClaimEndDt</th>\n",
       "      <th>Provider</th>\n",
       "      <th>InscClaimAmtReimbursed</th>\n",
       "      <th>AttendingPhysician</th>\n",
       "      <th>OperatingPhysician</th>\n",
       "      <th>OtherPhysician</th>\n",
       "      <th>ClmDiagnosisCode_1</th>\n",
       "      <th>...</th>\n",
       "      <th>ClmDiagnosisCode_9</th>\n",
       "      <th>ClmDiagnosisCode_10</th>\n",
       "      <th>ClmProcedureCode_1</th>\n",
       "      <th>ClmProcedureCode_2</th>\n",
       "      <th>ClmProcedureCode_3</th>\n",
       "      <th>ClmProcedureCode_4</th>\n",
       "      <th>ClmProcedureCode_5</th>\n",
       "      <th>ClmProcedureCode_6</th>\n",
       "      <th>DeductibleAmtPaid</th>\n",
       "      <th>ClmAdmitDiagnosisCode</th>\n",
       "    </tr>\n",
       "  </thead>\n",
       "  <tbody>\n",
       "    <tr>\n",
       "      <th>0</th>\n",
       "      <td>BENE11002</td>\n",
       "      <td>CLM624349</td>\n",
       "      <td>2009-10-11</td>\n",
       "      <td>2009-10-11</td>\n",
       "      <td>PRV56011</td>\n",
       "      <td>30</td>\n",
       "      <td>PHY326117</td>\n",
       "      <td>NaN</td>\n",
       "      <td>NaN</td>\n",
       "      <td>78943</td>\n",
       "      <td>...</td>\n",
       "      <td>NaN</td>\n",
       "      <td>NaN</td>\n",
       "      <td>NaN</td>\n",
       "      <td>NaN</td>\n",
       "      <td>NaN</td>\n",
       "      <td>NaN</td>\n",
       "      <td>NaN</td>\n",
       "      <td>NaN</td>\n",
       "      <td>0</td>\n",
       "      <td>56409</td>\n",
       "    </tr>\n",
       "    <tr>\n",
       "      <th>1</th>\n",
       "      <td>BENE11003</td>\n",
       "      <td>CLM189947</td>\n",
       "      <td>2009-02-12</td>\n",
       "      <td>2009-02-12</td>\n",
       "      <td>PRV57610</td>\n",
       "      <td>80</td>\n",
       "      <td>PHY362868</td>\n",
       "      <td>NaN</td>\n",
       "      <td>NaN</td>\n",
       "      <td>6115</td>\n",
       "      <td>...</td>\n",
       "      <td>NaN</td>\n",
       "      <td>NaN</td>\n",
       "      <td>NaN</td>\n",
       "      <td>NaN</td>\n",
       "      <td>NaN</td>\n",
       "      <td>NaN</td>\n",
       "      <td>NaN</td>\n",
       "      <td>NaN</td>\n",
       "      <td>0</td>\n",
       "      <td>79380</td>\n",
       "    </tr>\n",
       "    <tr>\n",
       "      <th>2</th>\n",
       "      <td>BENE11003</td>\n",
       "      <td>CLM438021</td>\n",
       "      <td>2009-06-27</td>\n",
       "      <td>2009-06-27</td>\n",
       "      <td>PRV57595</td>\n",
       "      <td>10</td>\n",
       "      <td>PHY328821</td>\n",
       "      <td>NaN</td>\n",
       "      <td>NaN</td>\n",
       "      <td>2723</td>\n",
       "      <td>...</td>\n",
       "      <td>NaN</td>\n",
       "      <td>NaN</td>\n",
       "      <td>NaN</td>\n",
       "      <td>NaN</td>\n",
       "      <td>NaN</td>\n",
       "      <td>NaN</td>\n",
       "      <td>NaN</td>\n",
       "      <td>NaN</td>\n",
       "      <td>0</td>\n",
       "      <td>NaN</td>\n",
       "    </tr>\n",
       "    <tr>\n",
       "      <th>3</th>\n",
       "      <td>BENE11004</td>\n",
       "      <td>CLM121801</td>\n",
       "      <td>2009-01-06</td>\n",
       "      <td>2009-01-06</td>\n",
       "      <td>PRV56011</td>\n",
       "      <td>40</td>\n",
       "      <td>PHY334319</td>\n",
       "      <td>NaN</td>\n",
       "      <td>NaN</td>\n",
       "      <td>71988</td>\n",
       "      <td>...</td>\n",
       "      <td>NaN</td>\n",
       "      <td>NaN</td>\n",
       "      <td>NaN</td>\n",
       "      <td>NaN</td>\n",
       "      <td>NaN</td>\n",
       "      <td>NaN</td>\n",
       "      <td>NaN</td>\n",
       "      <td>NaN</td>\n",
       "      <td>0</td>\n",
       "      <td>NaN</td>\n",
       "    </tr>\n",
       "    <tr>\n",
       "      <th>4</th>\n",
       "      <td>BENE11004</td>\n",
       "      <td>CLM150998</td>\n",
       "      <td>2009-01-22</td>\n",
       "      <td>2009-01-22</td>\n",
       "      <td>PRV56011</td>\n",
       "      <td>200</td>\n",
       "      <td>PHY403831</td>\n",
       "      <td>NaN</td>\n",
       "      <td>NaN</td>\n",
       "      <td>82382</td>\n",
       "      <td>...</td>\n",
       "      <td>NaN</td>\n",
       "      <td>NaN</td>\n",
       "      <td>NaN</td>\n",
       "      <td>NaN</td>\n",
       "      <td>NaN</td>\n",
       "      <td>NaN</td>\n",
       "      <td>NaN</td>\n",
       "      <td>NaN</td>\n",
       "      <td>0</td>\n",
       "      <td>71947</td>\n",
       "    </tr>\n",
       "  </tbody>\n",
       "</table>\n",
       "<p>5 rows × 27 columns</p>\n",
       "</div>"
      ],
      "text/plain": [
       "      BeneID    ClaimID ClaimStartDt  ClaimEndDt  Provider  \\\n",
       "0  BENE11002  CLM624349   2009-10-11  2009-10-11  PRV56011   \n",
       "1  BENE11003  CLM189947   2009-02-12  2009-02-12  PRV57610   \n",
       "2  BENE11003  CLM438021   2009-06-27  2009-06-27  PRV57595   \n",
       "3  BENE11004  CLM121801   2009-01-06  2009-01-06  PRV56011   \n",
       "4  BENE11004  CLM150998   2009-01-22  2009-01-22  PRV56011   \n",
       "\n",
       "   InscClaimAmtReimbursed AttendingPhysician OperatingPhysician  \\\n",
       "0                      30          PHY326117                NaN   \n",
       "1                      80          PHY362868                NaN   \n",
       "2                      10          PHY328821                NaN   \n",
       "3                      40          PHY334319                NaN   \n",
       "4                     200          PHY403831                NaN   \n",
       "\n",
       "  OtherPhysician ClmDiagnosisCode_1  ... ClmDiagnosisCode_9  \\\n",
       "0            NaN              78943  ...                NaN   \n",
       "1            NaN               6115  ...                NaN   \n",
       "2            NaN               2723  ...                NaN   \n",
       "3            NaN              71988  ...                NaN   \n",
       "4            NaN              82382  ...                NaN   \n",
       "\n",
       "  ClmDiagnosisCode_10 ClmProcedureCode_1 ClmProcedureCode_2  \\\n",
       "0                 NaN                NaN                NaN   \n",
       "1                 NaN                NaN                NaN   \n",
       "2                 NaN                NaN                NaN   \n",
       "3                 NaN                NaN                NaN   \n",
       "4                 NaN                NaN                NaN   \n",
       "\n",
       "  ClmProcedureCode_3 ClmProcedureCode_4 ClmProcedureCode_5 ClmProcedureCode_6  \\\n",
       "0                NaN                NaN                NaN                NaN   \n",
       "1                NaN                NaN                NaN                NaN   \n",
       "2                NaN                NaN                NaN                NaN   \n",
       "3                NaN                NaN                NaN                NaN   \n",
       "4                NaN                NaN                NaN                NaN   \n",
       "\n",
       "  DeductibleAmtPaid  ClmAdmitDiagnosisCode  \n",
       "0                 0                  56409  \n",
       "1                 0                  79380  \n",
       "2                 0                    NaN  \n",
       "3                 0                    NaN  \n",
       "4                 0                  71947  \n",
       "\n",
       "[5 rows x 27 columns]"
      ]
     },
     "execution_count": 18,
     "metadata": {},
     "output_type": "execute_result"
    }
   ],
   "source": [
    "train_Outpat.head()"
   ]
  },
  {
   "cell_type": "code",
   "execution_count": 19,
   "id": "d2EEbQRsUcya",
   "metadata": {
    "colab": {
     "base_uri": "https://localhost:8080/"
    },
    "id": "d2EEbQRsUcya",
    "outputId": "3cca79b8-990c-404f-af9c-569b79c3717c"
   },
   "outputs": [
    {
     "data": {
      "text/plain": [
       "BeneID                             138556\n",
       "DOB                                   900\n",
       "DOD                                    11\n",
       "Gender                                  2\n",
       "Race                                    4\n",
       "RenalDiseaseIndicator                   2\n",
       "State                                  52\n",
       "County                                314\n",
       "NoOfMonths_PartACov                    13\n",
       "NoOfMonths_PartBCov                    13\n",
       "ChronicCond_Alzheimer                   2\n",
       "ChronicCond_Heartfailure                2\n",
       "ChronicCond_KidneyDisease               2\n",
       "ChronicCond_Cancer                      2\n",
       "ChronicCond_ObstrPulmonary              2\n",
       "ChronicCond_Depression                  2\n",
       "ChronicCond_Diabetes                    2\n",
       "ChronicCond_IschemicHeart               2\n",
       "ChronicCond_Osteoporasis                2\n",
       "ChronicCond_rheumatoidarthritis         2\n",
       "ChronicCond_stroke                      2\n",
       "IPAnnualReimbursementAmt             3004\n",
       "IPAnnualDeductibleAmt                 147\n",
       "OPAnnualReimbursementAmt             2078\n",
       "OPAnnualDeductibleAmt                 789\n",
       "dtype: int64"
      ]
     },
     "execution_count": 19,
     "metadata": {},
     "output_type": "execute_result"
    }
   ],
   "source": [
    "train_Benif.nunique()"
   ]
  },
  {
   "cell_type": "code",
   "execution_count": 20,
   "id": "7590e0b8",
   "metadata": {
    "colab": {
     "base_uri": "https://localhost:8080/"
    },
    "id": "7590e0b8",
    "outputId": "df30d78c-6ca6-4c70-dab2-a140501cf02d"
   },
   "outputs": [
    {
     "data": {
      "text/plain": [
       "BeneID                    31289\n",
       "ClaimID                   40474\n",
       "ClaimStartDt                398\n",
       "ClaimEndDt                  365\n",
       "Provider                   2092\n",
       "InscClaimAmtReimbursed      146\n",
       "AttendingPhysician        11604\n",
       "OperatingPhysician         8287\n",
       "OtherPhysician             2877\n",
       "AdmissionDt                 398\n",
       "ClmAdmitDiagnosisCode      1928\n",
       "DeductibleAmtPaid             1\n",
       "DischargeDt                 365\n",
       "DiagnosisGroupCode          736\n",
       "ClmDiagnosisCode_1         2254\n",
       "ClmDiagnosisCode_2         2439\n",
       "ClmDiagnosisCode_3         2427\n",
       "ClmDiagnosisCode_4         2441\n",
       "ClmDiagnosisCode_5         2374\n",
       "ClmDiagnosisCode_6         2358\n",
       "ClmDiagnosisCode_7         2310\n",
       "ClmDiagnosisCode_8         2243\n",
       "ClmDiagnosisCode_9         2094\n",
       "ClmDiagnosisCode_10         952\n",
       "ClmProcedureCode_1         1117\n",
       "ClmProcedureCode_2          297\n",
       "ClmProcedureCode_3          154\n",
       "ClmProcedureCode_4           48\n",
       "ClmProcedureCode_5            6\n",
       "ClmProcedureCode_6            0\n",
       "dtype: int64"
      ]
     },
     "execution_count": 20,
     "metadata": {},
     "output_type": "execute_result"
    }
   ],
   "source": [
    "train_Inpat.nunique()"
   ]
  },
  {
   "cell_type": "code",
   "execution_count": 21,
   "id": "iyJFFMZkUR_P",
   "metadata": {
    "colab": {
     "base_uri": "https://localhost:8080/"
    },
    "id": "iyJFFMZkUR_P",
    "outputId": "ccf30dba-0bb7-432c-ad7d-87ab6f32a62e"
   },
   "outputs": [
    {
     "data": {
      "text/plain": [
       "BeneID                    133980\n",
       "ClaimID                   517737\n",
       "ClaimStartDt                 385\n",
       "ClaimEndDt                   366\n",
       "Provider                    5012\n",
       "InscClaimAmtReimbursed       342\n",
       "AttendingPhysician         74109\n",
       "OperatingPhysician         28532\n",
       "OtherPhysician             44388\n",
       "ClmDiagnosisCode_1         10354\n",
       "ClmDiagnosisCode_2          5056\n",
       "ClmDiagnosisCode_3          4448\n",
       "ClmDiagnosisCode_4          3925\n",
       "ClmDiagnosisCode_5          3412\n",
       "ClmDiagnosisCode_6          2968\n",
       "ClmDiagnosisCode_7          2635\n",
       "ClmDiagnosisCode_8          2260\n",
       "ClmDiagnosisCode_9          1894\n",
       "ClmDiagnosisCode_10          495\n",
       "ClmProcedureCode_1            80\n",
       "ClmProcedureCode_2            22\n",
       "ClmProcedureCode_3             4\n",
       "ClmProcedureCode_4             2\n",
       "ClmProcedureCode_5             0\n",
       "ClmProcedureCode_6             0\n",
       "DeductibleAmtPaid             16\n",
       "ClmAdmitDiagnosisCode       3715\n",
       "dtype: int64"
      ]
     },
     "execution_count": 21,
     "metadata": {},
     "output_type": "execute_result"
    }
   ],
   "source": [
    "train_Outpat.nunique()"
   ]
  },
  {
   "cell_type": "markdown",
   "id": "2ca39e20",
   "metadata": {
    "id": "2ca39e20"
   },
   "source": [
    "# Merging files"
   ]
  },
  {
   "cell_type": "code",
   "execution_count": 52,
   "id": "20670076",
   "metadata": {
    "id": "20670076"
   },
   "outputs": [],
   "source": [
    "merge_file = pd.merge(train_data,train_Inpat, on=[\"Provider\"], how=\"left\")"
   ]
  },
  {
   "cell_type": "code",
   "execution_count": 23,
   "id": "442b100b",
   "metadata": {
    "id": "442b100b"
   },
   "outputs": [],
   "source": [
    "merged_file = pd.merge(merge_file,train_Outpat, on=[\"Provider\"], how=\"left\")"
   ]
  },
  {
   "cell_type": "code",
   "execution_count": 24,
   "id": "8e915d31",
   "metadata": {
    "colab": {
     "base_uri": "https://localhost:8080/"
    },
    "id": "8e915d31",
    "outputId": "cf58f1b0-9ff9-482f-c0bc-0cc9af0b9bc0"
   },
   "outputs": [
    {
     "data": {
      "text/plain": [
       "(11308851, 57)"
      ]
     },
     "execution_count": 24,
     "metadata": {},
     "output_type": "execute_result"
    }
   ],
   "source": [
    "merged_file.shape"
   ]
  },
  {
   "cell_type": "code",
   "execution_count": 25,
   "id": "08498338",
   "metadata": {
    "colab": {
     "base_uri": "https://localhost:8080/"
    },
    "id": "08498338",
    "outputId": "2801b390-b87d-4a39-9920-0cdff9e22514"
   },
   "outputs": [
    {
     "data": {
      "text/plain": [
       "Provider                      5410\n",
       "PotentialFraud                   2\n",
       "BeneID_x                     31289\n",
       "ClaimID_x                    40474\n",
       "ClaimStartDt_x                 398\n",
       "ClaimEndDt_x                   365\n",
       "InscClaimAmtReimbursed_x       146\n",
       "AttendingPhysician_x         11604\n",
       "OperatingPhysician_x          8287\n",
       "OtherPhysician_x              2877\n",
       "AdmissionDt                    398\n",
       "ClmAdmitDiagnosisCode_x       1928\n",
       "DeductibleAmtPaid_x              1\n",
       "DischargeDt                    365\n",
       "DiagnosisGroupCode             736\n",
       "ClmDiagnosisCode_1_x          2254\n",
       "ClmDiagnosisCode_2_x          2439\n",
       "ClmDiagnosisCode_3_x          2427\n",
       "ClmDiagnosisCode_4_x          2441\n",
       "ClmDiagnosisCode_5_x          2374\n",
       "ClmDiagnosisCode_6_x          2358\n",
       "ClmDiagnosisCode_7_x          2310\n",
       "ClmDiagnosisCode_8_x          2243\n",
       "ClmDiagnosisCode_9_x          2094\n",
       "ClmDiagnosisCode_10_x          952\n",
       "ClmProcedureCode_1_x          1117\n",
       "ClmProcedureCode_2_x           297\n",
       "ClmProcedureCode_3_x           154\n",
       "ClmProcedureCode_4_x            48\n",
       "ClmProcedureCode_5_x             6\n",
       "ClmProcedureCode_6_x             0\n",
       "BeneID_y                    133980\n",
       "ClaimID_y                   517737\n",
       "ClaimStartDt_y                 385\n",
       "ClaimEndDt_y                   366\n",
       "InscClaimAmtReimbursed_y       342\n",
       "AttendingPhysician_y         74109\n",
       "OperatingPhysician_y         28532\n",
       "OtherPhysician_y             44388\n",
       "ClmDiagnosisCode_1_y         10354\n",
       "ClmDiagnosisCode_2_y          5056\n",
       "ClmDiagnosisCode_3_y          4448\n",
       "ClmDiagnosisCode_4_y          3925\n",
       "ClmDiagnosisCode_5_y          3412\n",
       "ClmDiagnosisCode_6_y          2968\n",
       "ClmDiagnosisCode_7_y          2635\n",
       "ClmDiagnosisCode_8_y          2260\n",
       "ClmDiagnosisCode_9_y          1894\n",
       "ClmDiagnosisCode_10_y          495\n",
       "ClmProcedureCode_1_y            80\n",
       "ClmProcedureCode_2_y            22\n",
       "ClmProcedureCode_3_y             4\n",
       "ClmProcedureCode_4_y             2\n",
       "ClmProcedureCode_5_y             0\n",
       "ClmProcedureCode_6_y             0\n",
       "DeductibleAmtPaid_y             16\n",
       "ClmAdmitDiagnosisCode_y       3715\n",
       "dtype: int64"
      ]
     },
     "execution_count": 25,
     "metadata": {},
     "output_type": "execute_result"
    }
   ],
   "source": [
    "merged_file.nunique()"
   ]
  },
  {
   "cell_type": "code",
   "execution_count": 26,
   "id": "93348cd0",
   "metadata": {
    "colab": {
     "base_uri": "https://localhost:8080/",
     "height": 299
    },
    "id": "93348cd0",
    "outputId": "80e74df0-cfab-440e-887a-8bc03f72482d"
   },
   "outputs": [
    {
     "data": {
      "text/html": [
       "<div>\n",
       "<style scoped>\n",
       "    .dataframe tbody tr th:only-of-type {\n",
       "        vertical-align: middle;\n",
       "    }\n",
       "\n",
       "    .dataframe tbody tr th {\n",
       "        vertical-align: top;\n",
       "    }\n",
       "\n",
       "    .dataframe thead th {\n",
       "        text-align: right;\n",
       "    }\n",
       "</style>\n",
       "<table border=\"1\" class=\"dataframe\">\n",
       "  <thead>\n",
       "    <tr style=\"text-align: right;\">\n",
       "      <th></th>\n",
       "      <th>Provider</th>\n",
       "      <th>PotentialFraud</th>\n",
       "      <th>BeneID_x</th>\n",
       "      <th>ClaimID_x</th>\n",
       "      <th>ClaimStartDt_x</th>\n",
       "      <th>ClaimEndDt_x</th>\n",
       "      <th>InscClaimAmtReimbursed_x</th>\n",
       "      <th>AttendingPhysician_x</th>\n",
       "      <th>OperatingPhysician_x</th>\n",
       "      <th>OtherPhysician_x</th>\n",
       "      <th>...</th>\n",
       "      <th>ClmDiagnosisCode_9_y</th>\n",
       "      <th>ClmDiagnosisCode_10_y</th>\n",
       "      <th>ClmProcedureCode_1_y</th>\n",
       "      <th>ClmProcedureCode_2_y</th>\n",
       "      <th>ClmProcedureCode_3_y</th>\n",
       "      <th>ClmProcedureCode_4_y</th>\n",
       "      <th>ClmProcedureCode_5_y</th>\n",
       "      <th>ClmProcedureCode_6_y</th>\n",
       "      <th>DeductibleAmtPaid_y</th>\n",
       "      <th>ClmAdmitDiagnosisCode_y</th>\n",
       "    </tr>\n",
       "  </thead>\n",
       "  <tbody>\n",
       "    <tr>\n",
       "      <th>0</th>\n",
       "      <td>PRV51001</td>\n",
       "      <td>No</td>\n",
       "      <td>BENE36012</td>\n",
       "      <td>CLM58316</td>\n",
       "      <td>2009-07-04</td>\n",
       "      <td>2009-07-08</td>\n",
       "      <td>36000.0</td>\n",
       "      <td>PHY340163</td>\n",
       "      <td>NaN</td>\n",
       "      <td>NaN</td>\n",
       "      <td>...</td>\n",
       "      <td>NaN</td>\n",
       "      <td>NaN</td>\n",
       "      <td>NaN</td>\n",
       "      <td>NaN</td>\n",
       "      <td>NaN</td>\n",
       "      <td>NaN</td>\n",
       "      <td>NaN</td>\n",
       "      <td>NaN</td>\n",
       "      <td>0.0</td>\n",
       "      <td>NaN</td>\n",
       "    </tr>\n",
       "    <tr>\n",
       "      <th>1</th>\n",
       "      <td>PRV51001</td>\n",
       "      <td>No</td>\n",
       "      <td>BENE36012</td>\n",
       "      <td>CLM58316</td>\n",
       "      <td>2009-07-04</td>\n",
       "      <td>2009-07-08</td>\n",
       "      <td>36000.0</td>\n",
       "      <td>PHY340163</td>\n",
       "      <td>NaN</td>\n",
       "      <td>NaN</td>\n",
       "      <td>...</td>\n",
       "      <td>NaN</td>\n",
       "      <td>NaN</td>\n",
       "      <td>NaN</td>\n",
       "      <td>NaN</td>\n",
       "      <td>NaN</td>\n",
       "      <td>NaN</td>\n",
       "      <td>NaN</td>\n",
       "      <td>NaN</td>\n",
       "      <td>0.0</td>\n",
       "      <td>NaN</td>\n",
       "    </tr>\n",
       "    <tr>\n",
       "      <th>2</th>\n",
       "      <td>PRV51001</td>\n",
       "      <td>No</td>\n",
       "      <td>BENE36012</td>\n",
       "      <td>CLM58316</td>\n",
       "      <td>2009-07-04</td>\n",
       "      <td>2009-07-08</td>\n",
       "      <td>36000.0</td>\n",
       "      <td>PHY340163</td>\n",
       "      <td>NaN</td>\n",
       "      <td>NaN</td>\n",
       "      <td>...</td>\n",
       "      <td>NaN</td>\n",
       "      <td>NaN</td>\n",
       "      <td>NaN</td>\n",
       "      <td>NaN</td>\n",
       "      <td>NaN</td>\n",
       "      <td>NaN</td>\n",
       "      <td>NaN</td>\n",
       "      <td>NaN</td>\n",
       "      <td>0.0</td>\n",
       "      <td>59970</td>\n",
       "    </tr>\n",
       "    <tr>\n",
       "      <th>3</th>\n",
       "      <td>PRV51001</td>\n",
       "      <td>No</td>\n",
       "      <td>BENE36012</td>\n",
       "      <td>CLM58316</td>\n",
       "      <td>2009-07-04</td>\n",
       "      <td>2009-07-08</td>\n",
       "      <td>36000.0</td>\n",
       "      <td>PHY340163</td>\n",
       "      <td>NaN</td>\n",
       "      <td>NaN</td>\n",
       "      <td>...</td>\n",
       "      <td>NaN</td>\n",
       "      <td>NaN</td>\n",
       "      <td>NaN</td>\n",
       "      <td>NaN</td>\n",
       "      <td>NaN</td>\n",
       "      <td>NaN</td>\n",
       "      <td>NaN</td>\n",
       "      <td>NaN</td>\n",
       "      <td>0.0</td>\n",
       "      <td>78902</td>\n",
       "    </tr>\n",
       "    <tr>\n",
       "      <th>4</th>\n",
       "      <td>PRV51001</td>\n",
       "      <td>No</td>\n",
       "      <td>BENE36012</td>\n",
       "      <td>CLM58316</td>\n",
       "      <td>2009-07-04</td>\n",
       "      <td>2009-07-08</td>\n",
       "      <td>36000.0</td>\n",
       "      <td>PHY340163</td>\n",
       "      <td>NaN</td>\n",
       "      <td>NaN</td>\n",
       "      <td>...</td>\n",
       "      <td>NaN</td>\n",
       "      <td>NaN</td>\n",
       "      <td>NaN</td>\n",
       "      <td>NaN</td>\n",
       "      <td>NaN</td>\n",
       "      <td>NaN</td>\n",
       "      <td>NaN</td>\n",
       "      <td>NaN</td>\n",
       "      <td>0.0</td>\n",
       "      <td>78900</td>\n",
       "    </tr>\n",
       "  </tbody>\n",
       "</table>\n",
       "<p>5 rows × 57 columns</p>\n",
       "</div>"
      ],
      "text/plain": [
       "   Provider PotentialFraud   BeneID_x ClaimID_x ClaimStartDt_x ClaimEndDt_x  \\\n",
       "0  PRV51001             No  BENE36012  CLM58316     2009-07-04   2009-07-08   \n",
       "1  PRV51001             No  BENE36012  CLM58316     2009-07-04   2009-07-08   \n",
       "2  PRV51001             No  BENE36012  CLM58316     2009-07-04   2009-07-08   \n",
       "3  PRV51001             No  BENE36012  CLM58316     2009-07-04   2009-07-08   \n",
       "4  PRV51001             No  BENE36012  CLM58316     2009-07-04   2009-07-08   \n",
       "\n",
       "   InscClaimAmtReimbursed_x AttendingPhysician_x OperatingPhysician_x  \\\n",
       "0                   36000.0            PHY340163                  NaN   \n",
       "1                   36000.0            PHY340163                  NaN   \n",
       "2                   36000.0            PHY340163                  NaN   \n",
       "3                   36000.0            PHY340163                  NaN   \n",
       "4                   36000.0            PHY340163                  NaN   \n",
       "\n",
       "  OtherPhysician_x  ... ClmDiagnosisCode_9_y ClmDiagnosisCode_10_y  \\\n",
       "0              NaN  ...                  NaN                   NaN   \n",
       "1              NaN  ...                  NaN                   NaN   \n",
       "2              NaN  ...                  NaN                   NaN   \n",
       "3              NaN  ...                  NaN                   NaN   \n",
       "4              NaN  ...                  NaN                   NaN   \n",
       "\n",
       "   ClmProcedureCode_1_y ClmProcedureCode_2_y ClmProcedureCode_3_y  \\\n",
       "0                   NaN                  NaN                  NaN   \n",
       "1                   NaN                  NaN                  NaN   \n",
       "2                   NaN                  NaN                  NaN   \n",
       "3                   NaN                  NaN                  NaN   \n",
       "4                   NaN                  NaN                  NaN   \n",
       "\n",
       "  ClmProcedureCode_4_y ClmProcedureCode_5_y ClmProcedureCode_6_y  \\\n",
       "0                  NaN                  NaN                  NaN   \n",
       "1                  NaN                  NaN                  NaN   \n",
       "2                  NaN                  NaN                  NaN   \n",
       "3                  NaN                  NaN                  NaN   \n",
       "4                  NaN                  NaN                  NaN   \n",
       "\n",
       "  DeductibleAmtPaid_y ClmAdmitDiagnosisCode_y  \n",
       "0                 0.0                     NaN  \n",
       "1                 0.0                     NaN  \n",
       "2                 0.0                   59970  \n",
       "3                 0.0                   78902  \n",
       "4                 0.0                   78900  \n",
       "\n",
       "[5 rows x 57 columns]"
      ]
     },
     "execution_count": 26,
     "metadata": {},
     "output_type": "execute_result"
    }
   ],
   "source": [
    "merged_file.head()"
   ]
  },
  {
   "cell_type": "code",
   "execution_count": 50,
   "id": "5f6945c2",
   "metadata": {
    "id": "5f6945c2"
   },
   "outputs": [],
   "source": [
    "merged_file.rename(columns = {'BeneID_x':'BeneID'}, inplace = True) #  changing the column name as it's only common column to merge train_Benif "
   ]
  },
  {
   "cell_type": "code",
   "execution_count": 49,
   "id": "ab1c1a10",
   "metadata": {
    "id": "ab1c1a10"
   },
   "outputs": [],
   "source": [
    "merged_df =pd.merge(merged_file,train_Benif, on=[\"BeneID\"],how=\"left\")"
   ]
  },
  {
   "cell_type": "code",
   "execution_count": 48,
   "id": "8e9611a9",
   "metadata": {
    "colab": {
     "base_uri": "https://localhost:8080/"
    },
    "id": "8e9611a9",
    "outputId": "f9291db8-96ab-4ac6-d792-1a80e481c359"
   },
   "outputs": [
    {
     "data": {
      "text/plain": [
       "(11308851, 81)"
      ]
     },
     "execution_count": 48,
     "metadata": {},
     "output_type": "execute_result"
    }
   ],
   "source": [
    "merged_df.shape"
   ]
  },
  {
   "cell_type": "code",
   "execution_count": 30,
   "id": "86be5387",
   "metadata": {
    "id": "86be5387"
   },
   "outputs": [],
   "source": [
    "merged_df=merged_df.drop_duplicates(subset=['Provider'])  #dropping Duplicate providers"
   ]
  },
  {
   "cell_type": "code",
   "execution_count": 31,
   "id": "43e60b3b",
   "metadata": {
    "colab": {
     "base_uri": "https://localhost:8080/"
    },
    "id": "43e60b3b",
    "outputId": "9edcdc3f-944c-40c3-a723-5facdc703162"
   },
   "outputs": [
    {
     "data": {
      "text/plain": [
       "(5410, 81)"
      ]
     },
     "execution_count": 31,
     "metadata": {},
     "output_type": "execute_result"
    }
   ],
   "source": [
    "merged_df.shape"
   ]
  },
  {
   "cell_type": "code",
   "execution_count": 32,
   "id": "7e4133f2",
   "metadata": {
    "colab": {
     "base_uri": "https://localhost:8080/",
     "height": 299
    },
    "id": "7e4133f2",
    "outputId": "da4ed21d-6a4a-415f-adf4-59ee0fd99faf"
   },
   "outputs": [
    {
     "data": {
      "text/html": [
       "<div>\n",
       "<style scoped>\n",
       "    .dataframe tbody tr th:only-of-type {\n",
       "        vertical-align: middle;\n",
       "    }\n",
       "\n",
       "    .dataframe tbody tr th {\n",
       "        vertical-align: top;\n",
       "    }\n",
       "\n",
       "    .dataframe thead th {\n",
       "        text-align: right;\n",
       "    }\n",
       "</style>\n",
       "<table border=\"1\" class=\"dataframe\">\n",
       "  <thead>\n",
       "    <tr style=\"text-align: right;\">\n",
       "      <th></th>\n",
       "      <th>Provider</th>\n",
       "      <th>PotentialFraud</th>\n",
       "      <th>BeneID</th>\n",
       "      <th>ClaimID_x</th>\n",
       "      <th>ClaimStartDt_x</th>\n",
       "      <th>ClaimEndDt_x</th>\n",
       "      <th>InscClaimAmtReimbursed_x</th>\n",
       "      <th>AttendingPhysician_x</th>\n",
       "      <th>OperatingPhysician_x</th>\n",
       "      <th>OtherPhysician_x</th>\n",
       "      <th>...</th>\n",
       "      <th>ChronicCond_Depression</th>\n",
       "      <th>ChronicCond_Diabetes</th>\n",
       "      <th>ChronicCond_IschemicHeart</th>\n",
       "      <th>ChronicCond_Osteoporasis</th>\n",
       "      <th>ChronicCond_rheumatoidarthritis</th>\n",
       "      <th>ChronicCond_stroke</th>\n",
       "      <th>IPAnnualReimbursementAmt</th>\n",
       "      <th>IPAnnualDeductibleAmt</th>\n",
       "      <th>OPAnnualReimbursementAmt</th>\n",
       "      <th>OPAnnualDeductibleAmt</th>\n",
       "    </tr>\n",
       "  </thead>\n",
       "  <tbody>\n",
       "    <tr>\n",
       "      <th>0</th>\n",
       "      <td>PRV51001</td>\n",
       "      <td>No</td>\n",
       "      <td>BENE36012</td>\n",
       "      <td>CLM58316</td>\n",
       "      <td>2009-07-04</td>\n",
       "      <td>2009-07-08</td>\n",
       "      <td>36000.0</td>\n",
       "      <td>PHY340163</td>\n",
       "      <td>NaN</td>\n",
       "      <td>NaN</td>\n",
       "      <td>...</td>\n",
       "      <td>1.0</td>\n",
       "      <td>1.0</td>\n",
       "      <td>1.0</td>\n",
       "      <td>2.0</td>\n",
       "      <td>2.0</td>\n",
       "      <td>1.0</td>\n",
       "      <td>36000.0</td>\n",
       "      <td>1068.0</td>\n",
       "      <td>3520.0</td>\n",
       "      <td>140.0</td>\n",
       "    </tr>\n",
       "    <tr>\n",
       "      <th>100</th>\n",
       "      <td>PRV51003</td>\n",
       "      <td>Yes</td>\n",
       "      <td>BENE18650</td>\n",
       "      <td>CLM50983</td>\n",
       "      <td>2009-05-13</td>\n",
       "      <td>2009-05-19</td>\n",
       "      <td>14000.0</td>\n",
       "      <td>PHY364445</td>\n",
       "      <td>PHY364445</td>\n",
       "      <td>NaN</td>\n",
       "      <td>...</td>\n",
       "      <td>2.0</td>\n",
       "      <td>1.0</td>\n",
       "      <td>1.0</td>\n",
       "      <td>2.0</td>\n",
       "      <td>2.0</td>\n",
       "      <td>2.0</td>\n",
       "      <td>14000.0</td>\n",
       "      <td>1068.0</td>\n",
       "      <td>2630.0</td>\n",
       "      <td>1120.0</td>\n",
       "    </tr>\n",
       "    <tr>\n",
       "      <th>4440</th>\n",
       "      <td>PRV51004</td>\n",
       "      <td>No</td>\n",
       "      <td>NaN</td>\n",
       "      <td>NaN</td>\n",
       "      <td>NaN</td>\n",
       "      <td>NaN</td>\n",
       "      <td>NaN</td>\n",
       "      <td>NaN</td>\n",
       "      <td>NaN</td>\n",
       "      <td>NaN</td>\n",
       "      <td>...</td>\n",
       "      <td>NaN</td>\n",
       "      <td>NaN</td>\n",
       "      <td>NaN</td>\n",
       "      <td>NaN</td>\n",
       "      <td>NaN</td>\n",
       "      <td>NaN</td>\n",
       "      <td>NaN</td>\n",
       "      <td>NaN</td>\n",
       "      <td>NaN</td>\n",
       "      <td>NaN</td>\n",
       "    </tr>\n",
       "    <tr>\n",
       "      <th>4589</th>\n",
       "      <td>PRV51005</td>\n",
       "      <td>Yes</td>\n",
       "      <td>NaN</td>\n",
       "      <td>NaN</td>\n",
       "      <td>NaN</td>\n",
       "      <td>NaN</td>\n",
       "      <td>NaN</td>\n",
       "      <td>NaN</td>\n",
       "      <td>NaN</td>\n",
       "      <td>NaN</td>\n",
       "      <td>...</td>\n",
       "      <td>NaN</td>\n",
       "      <td>NaN</td>\n",
       "      <td>NaN</td>\n",
       "      <td>NaN</td>\n",
       "      <td>NaN</td>\n",
       "      <td>NaN</td>\n",
       "      <td>NaN</td>\n",
       "      <td>NaN</td>\n",
       "      <td>NaN</td>\n",
       "      <td>NaN</td>\n",
       "    </tr>\n",
       "    <tr>\n",
       "      <th>5754</th>\n",
       "      <td>PRV51007</td>\n",
       "      <td>No</td>\n",
       "      <td>BENE16277</td>\n",
       "      <td>CLM53111</td>\n",
       "      <td>2009-05-28</td>\n",
       "      <td>2009-06-01</td>\n",
       "      <td>6000.0</td>\n",
       "      <td>PHY360635</td>\n",
       "      <td>PHY378129</td>\n",
       "      <td>NaN</td>\n",
       "      <td>...</td>\n",
       "      <td>2.0</td>\n",
       "      <td>1.0</td>\n",
       "      <td>1.0</td>\n",
       "      <td>2.0</td>\n",
       "      <td>2.0</td>\n",
       "      <td>1.0</td>\n",
       "      <td>6120.0</td>\n",
       "      <td>1068.0</td>\n",
       "      <td>200.0</td>\n",
       "      <td>50.0</td>\n",
       "    </tr>\n",
       "  </tbody>\n",
       "</table>\n",
       "<p>5 rows × 81 columns</p>\n",
       "</div>"
      ],
      "text/plain": [
       "      Provider PotentialFraud     BeneID ClaimID_x ClaimStartDt_x  \\\n",
       "0     PRV51001             No  BENE36012  CLM58316     2009-07-04   \n",
       "100   PRV51003            Yes  BENE18650  CLM50983     2009-05-13   \n",
       "4440  PRV51004             No        NaN       NaN            NaN   \n",
       "4589  PRV51005            Yes        NaN       NaN            NaN   \n",
       "5754  PRV51007             No  BENE16277  CLM53111     2009-05-28   \n",
       "\n",
       "     ClaimEndDt_x  InscClaimAmtReimbursed_x AttendingPhysician_x  \\\n",
       "0      2009-07-08                   36000.0            PHY340163   \n",
       "100    2009-05-19                   14000.0            PHY364445   \n",
       "4440          NaN                       NaN                  NaN   \n",
       "4589          NaN                       NaN                  NaN   \n",
       "5754   2009-06-01                    6000.0            PHY360635   \n",
       "\n",
       "     OperatingPhysician_x OtherPhysician_x  ... ChronicCond_Depression  \\\n",
       "0                     NaN              NaN  ...                    1.0   \n",
       "100             PHY364445              NaN  ...                    2.0   \n",
       "4440                  NaN              NaN  ...                    NaN   \n",
       "4589                  NaN              NaN  ...                    NaN   \n",
       "5754            PHY378129              NaN  ...                    2.0   \n",
       "\n",
       "     ChronicCond_Diabetes  ChronicCond_IschemicHeart ChronicCond_Osteoporasis  \\\n",
       "0                     1.0                        1.0                      2.0   \n",
       "100                   1.0                        1.0                      2.0   \n",
       "4440                  NaN                        NaN                      NaN   \n",
       "4589                  NaN                        NaN                      NaN   \n",
       "5754                  1.0                        1.0                      2.0   \n",
       "\n",
       "     ChronicCond_rheumatoidarthritis ChronicCond_stroke  \\\n",
       "0                                2.0                1.0   \n",
       "100                              2.0                2.0   \n",
       "4440                             NaN                NaN   \n",
       "4589                             NaN                NaN   \n",
       "5754                             2.0                1.0   \n",
       "\n",
       "     IPAnnualReimbursementAmt IPAnnualDeductibleAmt OPAnnualReimbursementAmt  \\\n",
       "0                     36000.0                1068.0                   3520.0   \n",
       "100                   14000.0                1068.0                   2630.0   \n",
       "4440                      NaN                   NaN                      NaN   \n",
       "4589                      NaN                   NaN                      NaN   \n",
       "5754                   6120.0                1068.0                    200.0   \n",
       "\n",
       "     OPAnnualDeductibleAmt  \n",
       "0                    140.0  \n",
       "100                 1120.0  \n",
       "4440                   NaN  \n",
       "4589                   NaN  \n",
       "5754                  50.0  \n",
       "\n",
       "[5 rows x 81 columns]"
      ]
     },
     "execution_count": 32,
     "metadata": {},
     "output_type": "execute_result"
    }
   ],
   "source": [
    "merged_df.head()"
   ]
  },
  {
   "cell_type": "code",
   "execution_count": 33,
   "id": "b373a084",
   "metadata": {
    "colab": {
     "base_uri": "https://localhost:8080/"
    },
    "id": "b373a084",
    "outputId": "9b9efb7e-f7e8-42d5-b00f-94cc8b501ed0"
   },
   "outputs": [
    {
     "data": {
      "text/plain": [
       "Provider                       0\n",
       "PotentialFraud                 0\n",
       "BeneID                      3318\n",
       "ClaimID_x                   3318\n",
       "ClaimStartDt_x              3318\n",
       "                            ... \n",
       "ChronicCond_stroke          3318\n",
       "IPAnnualReimbursementAmt    3318\n",
       "IPAnnualDeductibleAmt       3318\n",
       "OPAnnualReimbursementAmt    3318\n",
       "OPAnnualDeductibleAmt       3318\n",
       "Length: 81, dtype: int64"
      ]
     },
     "execution_count": 33,
     "metadata": {},
     "output_type": "execute_result"
    }
   ],
   "source": [
    "merged_df.isnull().sum() "
   ]
  },
  {
   "cell_type": "markdown",
   "id": "e9a512dc",
   "metadata": {
    "id": "e9a512dc"
   },
   "source": [
    "# missing value treatement"
   ]
  },
  {
   "cell_type": "code",
   "execution_count": 34,
   "id": "87a52427",
   "metadata": {
    "colab": {
     "base_uri": "https://localhost:8080/"
    },
    "id": "87a52427",
    "outputId": "d48af7f6-df95-46d5-b584-88536d47f948"
   },
   "outputs": [
    {
     "data": {
      "text/plain": [
       "Provider                     object\n",
       "PotentialFraud               object\n",
       "BeneID                       object\n",
       "ClaimID_x                    object\n",
       "ClaimStartDt_x               object\n",
       "                             ...   \n",
       "ChronicCond_stroke          float64\n",
       "IPAnnualReimbursementAmt    float64\n",
       "IPAnnualDeductibleAmt       float64\n",
       "OPAnnualReimbursementAmt    float64\n",
       "OPAnnualDeductibleAmt       float64\n",
       "Length: 81, dtype: object"
      ]
     },
     "execution_count": 34,
     "metadata": {},
     "output_type": "execute_result"
    }
   ],
   "source": [
    "merged_df.dtypes"
   ]
  },
  {
   "cell_type": "code",
   "execution_count": 35,
   "id": "WWn5DAweIaC9",
   "metadata": {
    "colab": {
     "base_uri": "https://localhost:8080/",
     "height": 438
    },
    "id": "WWn5DAweIaC9",
    "outputId": "e2cb2084-33d6-41ea-cb9c-5e8175070209"
   },
   "outputs": [
    {
     "data": {
      "text/plain": [
       "<AxesSubplot:>"
      ]
     },
     "execution_count": 35,
     "metadata": {},
     "output_type": "execute_result"
    },
    {
     "data": {
      "image/png": "[encoded data removed]",
      "text/plain": [
       "<Figure size 432x288 with 1 Axes>"
      ]
     },
     "metadata": {
      "needs_background": "light"
     },
     "output_type": "display_data"
    }
   ],
   "source": [
    "sns.heatmap(merged_df.isnull(),yticklabels=False,cbar=False,cmap='viridis')"
   ]
  },
  {
   "cell_type": "code",
   "execution_count": 36,
   "id": "1aIMk_w5JpM_",
   "metadata": {
    "colab": {
     "base_uri": "https://localhost:8080/"
    },
    "id": "1aIMk_w5JpM_",
    "outputId": "a44f628a-4064-4a9c-9561-e951a1cecb2b"
   },
   "outputs": [
    {
     "data": {
      "text/plain": [
       "5118"
      ]
     },
     "execution_count": 36,
     "metadata": {},
     "output_type": "execute_result"
    }
   ],
   "source": [
    "merged_df['OtherPhysician_x'].isnull().sum()"
   ]
  },
  {
   "cell_type": "code",
   "execution_count": 37,
   "id": "t1OoEceGLrL5",
   "metadata": {
    "id": "t1OoEceGLrL5"
   },
   "outputs": [],
   "source": [
    "merged_df.drop('OtherPhysician_x', axis=1, inplace=True)"
   ]
  },
  {
   "cell_type": "code",
   "execution_count": 38,
   "id": "BVaQxOisNVap",
   "metadata": {
    "colab": {
     "base_uri": "https://localhost:8080/"
    },
    "id": "BVaQxOisNVap",
    "outputId": "067004a2-883a-45a9-f1f5-c6eef7fe3910"
   },
   "outputs": [
    {
     "data": {
      "text/plain": [
       "4538"
      ]
     },
     "execution_count": 38,
     "metadata": {},
     "output_type": "execute_result"
    }
   ],
   "source": [
    "merged_df['OperatingPhysician_y'].isnull().sum()"
   ]
  },
  {
   "cell_type": "code",
   "execution_count": 39,
   "id": "NWDJwyJLNieu",
   "metadata": {
    "id": "NWDJwyJLNieu"
   },
   "outputs": [],
   "source": [
    "merged_df.drop('OperatingPhysician_y',axis=1, inplace=True)"
   ]
  },
  {
   "cell_type": "code",
   "execution_count": 40,
   "id": "n3LGO-UvwJJq",
   "metadata": {
    "id": "n3LGO-UvwJJq"
   },
   "outputs": [],
   "source": [
    "merged_df.drop(['ClmDiagnosisCode_1_x','ClmDiagnosisCode_2_x','ClmDiagnosisCode_3_x','ClmDiagnosisCode_4_x','ClmDiagnosisCode_5_x','ClmDiagnosisCode_6_x','ClmDiagnosisCode_7_x','ClmDiagnosisCode_8_x','ClmDiagnosisCode_9_x','ClmDiagnosisCode_10_x','ClmProcedureCode_1_x','ClmProcedureCode_2_x','ClmProcedureCode_3_x','ClmProcedureCode_4_x','ClmProcedureCode_5_x','ClmProcedureCode_6_x'],axis=1, inplace=True)"
   ]
  },
  {
   "cell_type": "code",
   "execution_count": 41,
   "id": "4wUFER_Bwrf6",
   "metadata": {
    "id": "4wUFER_Bwrf6"
   },
   "outputs": [],
   "source": [
    "merged_df.drop(['ClmDiagnosisCode_1_y','ClmDiagnosisCode_2_y','ClmDiagnosisCode_3_y','ClmDiagnosisCode_4_y','ClmDiagnosisCode_5_y','ClmDiagnosisCode_6_y','ClmDiagnosisCode_7_y','ClmDiagnosisCode_8_y','ClmDiagnosisCode_9_y','ClmDiagnosisCode_10_y','ClmProcedureCode_1_y','ClmProcedureCode_2_y','ClmProcedureCode_3_y','ClmProcedureCode_4_y','ClmProcedureCode_5_y','ClmProcedureCode_6_y','DeductibleAmtPaid_y','ClmAdmitDiagnosisCode_y'],axis=1,inplace=True)"
   ]
  },
  {
   "cell_type": "code",
   "execution_count": 42,
   "id": "RnvfbFLgyMSx",
   "metadata": {
    "colab": {
     "base_uri": "https://localhost:8080/",
     "height": 299
    },
    "id": "RnvfbFLgyMSx",
    "outputId": "a9fba27e-bc5c-4466-b630-83c7fcbe6217"
   },
   "outputs": [
    {
     "data": {
      "text/html": [
       "<div>\n",
       "<style scoped>\n",
       "    .dataframe tbody tr th:only-of-type {\n",
       "        vertical-align: middle;\n",
       "    }\n",
       "\n",
       "    .dataframe tbody tr th {\n",
       "        vertical-align: top;\n",
       "    }\n",
       "\n",
       "    .dataframe thead th {\n",
       "        text-align: right;\n",
       "    }\n",
       "</style>\n",
       "<table border=\"1\" class=\"dataframe\">\n",
       "  <thead>\n",
       "    <tr style=\"text-align: right;\">\n",
       "      <th></th>\n",
       "      <th>Provider</th>\n",
       "      <th>PotentialFraud</th>\n",
       "      <th>BeneID</th>\n",
       "      <th>ClaimID_x</th>\n",
       "      <th>ClaimStartDt_x</th>\n",
       "      <th>ClaimEndDt_x</th>\n",
       "      <th>InscClaimAmtReimbursed_x</th>\n",
       "      <th>AttendingPhysician_x</th>\n",
       "      <th>OperatingPhysician_x</th>\n",
       "      <th>AdmissionDt</th>\n",
       "      <th>...</th>\n",
       "      <th>ChronicCond_Depression</th>\n",
       "      <th>ChronicCond_Diabetes</th>\n",
       "      <th>ChronicCond_IschemicHeart</th>\n",
       "      <th>ChronicCond_Osteoporasis</th>\n",
       "      <th>ChronicCond_rheumatoidarthritis</th>\n",
       "      <th>ChronicCond_stroke</th>\n",
       "      <th>IPAnnualReimbursementAmt</th>\n",
       "      <th>IPAnnualDeductibleAmt</th>\n",
       "      <th>OPAnnualReimbursementAmt</th>\n",
       "      <th>OPAnnualDeductibleAmt</th>\n",
       "    </tr>\n",
       "  </thead>\n",
       "  <tbody>\n",
       "    <tr>\n",
       "      <th>0</th>\n",
       "      <td>PRV51001</td>\n",
       "      <td>No</td>\n",
       "      <td>BENE36012</td>\n",
       "      <td>CLM58316</td>\n",
       "      <td>2009-07-04</td>\n",
       "      <td>2009-07-08</td>\n",
       "      <td>36000.0</td>\n",
       "      <td>PHY340163</td>\n",
       "      <td>NaN</td>\n",
       "      <td>2009-07-04</td>\n",
       "      <td>...</td>\n",
       "      <td>1.0</td>\n",
       "      <td>1.0</td>\n",
       "      <td>1.0</td>\n",
       "      <td>2.0</td>\n",
       "      <td>2.0</td>\n",
       "      <td>1.0</td>\n",
       "      <td>36000.0</td>\n",
       "      <td>1068.0</td>\n",
       "      <td>3520.0</td>\n",
       "      <td>140.0</td>\n",
       "    </tr>\n",
       "    <tr>\n",
       "      <th>100</th>\n",
       "      <td>PRV51003</td>\n",
       "      <td>Yes</td>\n",
       "      <td>BENE18650</td>\n",
       "      <td>CLM50983</td>\n",
       "      <td>2009-05-13</td>\n",
       "      <td>2009-05-19</td>\n",
       "      <td>14000.0</td>\n",
       "      <td>PHY364445</td>\n",
       "      <td>PHY364445</td>\n",
       "      <td>2009-05-13</td>\n",
       "      <td>...</td>\n",
       "      <td>2.0</td>\n",
       "      <td>1.0</td>\n",
       "      <td>1.0</td>\n",
       "      <td>2.0</td>\n",
       "      <td>2.0</td>\n",
       "      <td>2.0</td>\n",
       "      <td>14000.0</td>\n",
       "      <td>1068.0</td>\n",
       "      <td>2630.0</td>\n",
       "      <td>1120.0</td>\n",
       "    </tr>\n",
       "    <tr>\n",
       "      <th>4440</th>\n",
       "      <td>PRV51004</td>\n",
       "      <td>No</td>\n",
       "      <td>NaN</td>\n",
       "      <td>NaN</td>\n",
       "      <td>NaN</td>\n",
       "      <td>NaN</td>\n",
       "      <td>NaN</td>\n",
       "      <td>NaN</td>\n",
       "      <td>NaN</td>\n",
       "      <td>NaN</td>\n",
       "      <td>...</td>\n",
       "      <td>NaN</td>\n",
       "      <td>NaN</td>\n",
       "      <td>NaN</td>\n",
       "      <td>NaN</td>\n",
       "      <td>NaN</td>\n",
       "      <td>NaN</td>\n",
       "      <td>NaN</td>\n",
       "      <td>NaN</td>\n",
       "      <td>NaN</td>\n",
       "      <td>NaN</td>\n",
       "    </tr>\n",
       "    <tr>\n",
       "      <th>4589</th>\n",
       "      <td>PRV51005</td>\n",
       "      <td>Yes</td>\n",
       "      <td>NaN</td>\n",
       "      <td>NaN</td>\n",
       "      <td>NaN</td>\n",
       "      <td>NaN</td>\n",
       "      <td>NaN</td>\n",
       "      <td>NaN</td>\n",
       "      <td>NaN</td>\n",
       "      <td>NaN</td>\n",
       "      <td>...</td>\n",
       "      <td>NaN</td>\n",
       "      <td>NaN</td>\n",
       "      <td>NaN</td>\n",
       "      <td>NaN</td>\n",
       "      <td>NaN</td>\n",
       "      <td>NaN</td>\n",
       "      <td>NaN</td>\n",
       "      <td>NaN</td>\n",
       "      <td>NaN</td>\n",
       "      <td>NaN</td>\n",
       "    </tr>\n",
       "    <tr>\n",
       "      <th>5754</th>\n",
       "      <td>PRV51007</td>\n",
       "      <td>No</td>\n",
       "      <td>BENE16277</td>\n",
       "      <td>CLM53111</td>\n",
       "      <td>2009-05-28</td>\n",
       "      <td>2009-06-01</td>\n",
       "      <td>6000.0</td>\n",
       "      <td>PHY360635</td>\n",
       "      <td>PHY378129</td>\n",
       "      <td>2009-05-28</td>\n",
       "      <td>...</td>\n",
       "      <td>2.0</td>\n",
       "      <td>1.0</td>\n",
       "      <td>1.0</td>\n",
       "      <td>2.0</td>\n",
       "      <td>2.0</td>\n",
       "      <td>1.0</td>\n",
       "      <td>6120.0</td>\n",
       "      <td>1068.0</td>\n",
       "      <td>200.0</td>\n",
       "      <td>50.0</td>\n",
       "    </tr>\n",
       "  </tbody>\n",
       "</table>\n",
       "<p>5 rows × 45 columns</p>\n",
       "</div>"
      ],
      "text/plain": [
       "      Provider PotentialFraud     BeneID ClaimID_x ClaimStartDt_x  \\\n",
       "0     PRV51001             No  BENE36012  CLM58316     2009-07-04   \n",
       "100   PRV51003            Yes  BENE18650  CLM50983     2009-05-13   \n",
       "4440  PRV51004             No        NaN       NaN            NaN   \n",
       "4589  PRV51005            Yes        NaN       NaN            NaN   \n",
       "5754  PRV51007             No  BENE16277  CLM53111     2009-05-28   \n",
       "\n",
       "     ClaimEndDt_x  InscClaimAmtReimbursed_x AttendingPhysician_x  \\\n",
       "0      2009-07-08                   36000.0            PHY340163   \n",
       "100    2009-05-19                   14000.0            PHY364445   \n",
       "4440          NaN                       NaN                  NaN   \n",
       "4589          NaN                       NaN                  NaN   \n",
       "5754   2009-06-01                    6000.0            PHY360635   \n",
       "\n",
       "     OperatingPhysician_x AdmissionDt  ... ChronicCond_Depression  \\\n",
       "0                     NaN  2009-07-04  ...                    1.0   \n",
       "100             PHY364445  2009-05-13  ...                    2.0   \n",
       "4440                  NaN         NaN  ...                    NaN   \n",
       "4589                  NaN         NaN  ...                    NaN   \n",
       "5754            PHY378129  2009-05-28  ...                    2.0   \n",
       "\n",
       "      ChronicCond_Diabetes ChronicCond_IschemicHeart ChronicCond_Osteoporasis  \\\n",
       "0                      1.0                       1.0                      2.0   \n",
       "100                    1.0                       1.0                      2.0   \n",
       "4440                   NaN                       NaN                      NaN   \n",
       "4589                   NaN                       NaN                      NaN   \n",
       "5754                   1.0                       1.0                      2.0   \n",
       "\n",
       "     ChronicCond_rheumatoidarthritis ChronicCond_stroke  \\\n",
       "0                                2.0                1.0   \n",
       "100                              2.0                2.0   \n",
       "4440                             NaN                NaN   \n",
       "4589                             NaN                NaN   \n",
       "5754                             2.0                1.0   \n",
       "\n",
       "     IPAnnualReimbursementAmt IPAnnualDeductibleAmt  OPAnnualReimbursementAmt  \\\n",
       "0                     36000.0                1068.0                    3520.0   \n",
       "100                   14000.0                1068.0                    2630.0   \n",
       "4440                      NaN                   NaN                       NaN   \n",
       "4589                      NaN                   NaN                       NaN   \n",
       "5754                   6120.0                1068.0                     200.0   \n",
       "\n",
       "     OPAnnualDeductibleAmt  \n",
       "0                    140.0  \n",
       "100                 1120.0  \n",
       "4440                   NaN  \n",
       "4589                   NaN  \n",
       "5754                  50.0  \n",
       "\n",
       "[5 rows x 45 columns]"
      ]
     },
     "execution_count": 42,
     "metadata": {},
     "output_type": "execute_result"
    }
   ],
   "source": [
    "merged_df.head()"
   ]
  },
  {
   "cell_type": "code",
   "execution_count": 43,
   "id": "yHb5Rpy2yPYb",
   "metadata": {
    "colab": {
     "base_uri": "https://localhost:8080/"
    },
    "id": "yHb5Rpy2yPYb",
    "outputId": "23946bd6-e5fb-4ca7-9284-8a312ae378e0"
   },
   "outputs": [
    {
     "data": {
      "text/plain": [
       "Index(['Provider', 'PotentialFraud', 'BeneID', 'ClaimID_x', 'ClaimStartDt_x',\n",
       "       'ClaimEndDt_x', 'InscClaimAmtReimbursed_x', 'AttendingPhysician_x',\n",
       "       'OperatingPhysician_x', 'AdmissionDt', 'ClmAdmitDiagnosisCode_x',\n",
       "       'DeductibleAmtPaid_x', 'DischargeDt', 'DiagnosisGroupCode', 'BeneID_y',\n",
       "       'ClaimID_y', 'ClaimStartDt_y', 'ClaimEndDt_y',\n",
       "       'InscClaimAmtReimbursed_y', 'AttendingPhysician_y', 'OtherPhysician_y',\n",
       "       'DOB', 'DOD', 'Gender', 'Race', 'RenalDiseaseIndicator', 'State',\n",
       "       'County', 'NoOfMonths_PartACov', 'NoOfMonths_PartBCov',\n",
       "       'ChronicCond_Alzheimer', 'ChronicCond_Heartfailure',\n",
       "       'ChronicCond_KidneyDisease', 'ChronicCond_Cancer',\n",
       "       'ChronicCond_ObstrPulmonary', 'ChronicCond_Depression',\n",
       "       'ChronicCond_Diabetes', 'ChronicCond_IschemicHeart',\n",
       "       'ChronicCond_Osteoporasis', 'ChronicCond_rheumatoidarthritis',\n",
       "       'ChronicCond_stroke', 'IPAnnualReimbursementAmt',\n",
       "       'IPAnnualDeductibleAmt', 'OPAnnualReimbursementAmt',\n",
       "       'OPAnnualDeductibleAmt'],\n",
       "      dtype='object')"
      ]
     },
     "execution_count": 43,
     "metadata": {},
     "output_type": "execute_result"
    }
   ],
   "source": [
    "merged_df.columns"
   ]
  },
  {
   "cell_type": "code",
   "execution_count": 44,
   "id": "4yv7q_cbzr6K",
   "metadata": {
    "colab": {
     "base_uri": "https://localhost:8080/",
     "height": 421
    },
    "id": "4yv7q_cbzr6K",
    "outputId": "118a24ca-200f-45a0-deac-f0454376b792"
   },
   "outputs": [
    {
     "data": {
      "text/plain": [
       "<AxesSubplot:>"
      ]
     },
     "execution_count": 44,
     "metadata": {},
     "output_type": "execute_result"
    },
    {
     "data": {
      "image/png": "[encoded data removed]",
      "text/plain": [
       "<Figure size 432x288 with 1 Axes>"
      ]
     },
     "metadata": {
      "needs_background": "light"
     },
     "output_type": "display_data"
    }
   ],
   "source": [
    "sns.heatmap(merged_df.isnull(),yticklabels=False,cbar=False,cmap='viridis')"
   ]
  }
 ],
 "metadata": {
  "colab": {
   "provenance": []
  },
  "kernelspec": {
   "display_name": "Python 3 (ipykernel)",
   "language": "python",
   "name": "python3"
  },
  "language_info": {
   "codemirror_mode": {
    "name": "ipython",
    "version": 3
   },
   "file_extension": ".py",
   "mimetype": "text/x-python",
   "name": "python",
   "nbconvert_exporter": "python",
   "pygments_lexer": "ipython3",
   "version": "3.9.7"
  }
 },
 "nbformat": 4,
 "nbformat_minor": 5
}
